{
 "cells": [
  {
   "cell_type": "code",
   "execution_count": 16,
   "id": "initial_id",
   "metadata": {
    "collapsed": true,
    "ExecuteTime": {
     "end_time": "2024-04-19T08:49:44.538852100Z",
     "start_time": "2024-04-19T08:49:44.521671700Z"
    }
   },
   "outputs": [],
   "source": [
    "import json\n",
    "\n",
    "class ContactManager:\n",
    "    def __init__(self):\n",
    "        self.contact_list = []\n",
    "        \n",
    "    def add(self, name, number):\n",
    "        self.contact_list.append({\n",
    "            'name': name,\n",
    "            'number': number\n",
    "        })\n",
    "    \n",
    "    def search(self, name):\n",
    "        result = []\n",
    "        for item in self.contact_list:\n",
    "            if name.lower() in item['name'].lower():\n",
    "                result.append(item)\n",
    "        \n",
    "        print(result)\n",
    "    def backup(self):\n",
    "        with open('./contact_list.json', 'w') as f:\n",
    "            f.write(json.dumps(self.contact_list))\n",
    "    \n",
    "    def print(self):\n",
    "        print(f'ur contacts are: {self.contact_list}')"
   ]
  },
  {
   "cell_type": "code",
   "execution_count": 17,
   "outputs": [
    {
     "name": "stdout",
     "output_type": "stream",
     "text": [
      "ur contacts are: []\n",
      "ur contacts are: [{'name': 'sepide', 'number': '1234'}]\n"
     ]
    }
   ],
   "source": [
    "my_contacts = ContactManager()\n",
    "my_contacts.print()\n",
    "my_contacts.add('sepide', '1234')\n",
    "my_contacts.print()"
   ],
   "metadata": {
    "collapsed": false,
    "ExecuteTime": {
     "end_time": "2024-04-19T08:49:45.914018Z",
     "start_time": "2024-04-19T08:49:45.904218Z"
    }
   },
   "id": "e3bbbed02e75e50e"
  },
  {
   "cell_type": "code",
   "execution_count": 18,
   "outputs": [],
   "source": [
    "my_contacts.add('armin', '4566')"
   ],
   "metadata": {
    "collapsed": false,
    "ExecuteTime": {
     "end_time": "2024-04-19T08:49:46.325930500Z",
     "start_time": "2024-04-19T08:49:46.320045200Z"
    }
   },
   "id": "46f77701740d5d84"
  },
  {
   "cell_type": "code",
   "execution_count": 19,
   "outputs": [
    {
     "name": "stdout",
     "output_type": "stream",
     "text": [
      "ur contacts are: [{'name': 'sepide', 'number': '1234'}, {'name': 'armin', 'number': '4566'}]\n"
     ]
    }
   ],
   "source": [
    "my_contacts.print()"
   ],
   "metadata": {
    "collapsed": false,
    "ExecuteTime": {
     "end_time": "2024-04-19T08:49:46.652715900Z",
     "start_time": "2024-04-19T08:49:46.644661800Z"
    }
   },
   "id": "b0b950016d25e888"
  },
  {
   "cell_type": "code",
   "execution_count": 20,
   "outputs": [],
   "source": [
    "my_contacts.add('ahmad', '1267')"
   ],
   "metadata": {
    "collapsed": false,
    "ExecuteTime": {
     "end_time": "2024-04-19T08:49:46.934588800Z",
     "start_time": "2024-04-19T08:49:46.925712400Z"
    }
   },
   "id": "61f84347ac4b51ae"
  },
  {
   "cell_type": "code",
   "execution_count": 21,
   "outputs": [
    {
     "name": "stdout",
     "output_type": "stream",
     "text": [
      "ur contacts are: [{'name': 'sepide', 'number': '1234'}, {'name': 'armin', 'number': '4566'}, {'name': 'ahmad', 'number': '1267'}]\n"
     ]
    }
   ],
   "source": [
    "my_contacts.print()"
   ],
   "metadata": {
    "collapsed": false,
    "ExecuteTime": {
     "end_time": "2024-04-19T08:49:47.210358100Z",
     "start_time": "2024-04-19T08:49:47.201856200Z"
    }
   },
   "id": "b2aef270097afa23"
  },
  {
   "cell_type": "code",
   "execution_count": 22,
   "outputs": [
    {
     "name": "stdout",
     "output_type": "stream",
     "text": [
      "[{'name': 'armin', 'number': '4566'}, {'name': 'ahmad', 'number': '1267'}]\n"
     ]
    }
   ],
   "source": [
    "my_contacts.search('a')"
   ],
   "metadata": {
    "collapsed": false,
    "ExecuteTime": {
     "end_time": "2024-04-19T08:49:47.509165800Z",
     "start_time": "2024-04-19T08:49:47.488445800Z"
    }
   },
   "id": "a15639b28852fc92"
  },
  {
   "cell_type": "code",
   "execution_count": 23,
   "outputs": [],
   "source": [
    "my_contacts.add('sara', '4732')"
   ],
   "metadata": {
    "collapsed": false,
    "ExecuteTime": {
     "end_time": "2024-04-19T08:49:47.780694600Z",
     "start_time": "2024-04-19T08:49:47.756566800Z"
    }
   },
   "id": "c0ecadc6bc015e37"
  },
  {
   "cell_type": "code",
   "execution_count": 24,
   "outputs": [
    {
     "name": "stdout",
     "output_type": "stream",
     "text": [
      "[{'name': 'sepide', 'number': '1234'}, {'name': 'sara', 'number': '4732'}]\n"
     ]
    }
   ],
   "source": [
    "my_contacts.search('s')"
   ],
   "metadata": {
    "collapsed": false,
    "ExecuteTime": {
     "end_time": "2024-04-19T08:49:48.220546800Z",
     "start_time": "2024-04-19T08:49:48.216541400Z"
    }
   },
   "id": "56127b6a3d234a92"
  },
  {
   "cell_type": "code",
   "execution_count": 25,
   "outputs": [],
   "source": [
    "my_contacts.backup()"
   ],
   "metadata": {
    "collapsed": false,
    "ExecuteTime": {
     "end_time": "2024-04-19T08:49:59.838182Z",
     "start_time": "2024-04-19T08:49:59.831238300Z"
    }
   },
   "id": "155a74ab83f88876"
  },
  {
   "cell_type": "code",
   "execution_count": 26,
   "outputs": [],
   "source": [
    "my_contacts.add('setayesh', '6934')"
   ],
   "metadata": {
    "collapsed": false,
    "ExecuteTime": {
     "end_time": "2024-04-19T08:51:47.579445800Z",
     "start_time": "2024-04-19T08:51:47.562219800Z"
    }
   },
   "id": "23f03044a498e500"
  },
  {
   "cell_type": "code",
   "execution_count": 27,
   "outputs": [
    {
     "name": "stdout",
     "output_type": "stream",
     "text": [
      "ur contacts are: [{'name': 'sepide', 'number': '1234'}, {'name': 'armin', 'number': '4566'}, {'name': 'ahmad', 'number': '1267'}, {'name': 'sara', 'number': '4732'}, {'name': 'setayesh', 'number': '6934'}]\n"
     ]
    }
   ],
   "source": [
    "my_contacts.print()"
   ],
   "metadata": {
    "collapsed": false,
    "ExecuteTime": {
     "end_time": "2024-04-19T08:51:50.855929900Z",
     "start_time": "2024-04-19T08:51:50.840078200Z"
    }
   },
   "id": "fd5c61b0f293e365"
  },
  {
   "cell_type": "code",
   "execution_count": 28,
   "outputs": [],
   "source": [
    "my_contacts.backup()"
   ],
   "metadata": {
    "collapsed": false,
    "ExecuteTime": {
     "end_time": "2024-04-19T08:51:58.827625500Z",
     "start_time": "2024-04-19T08:51:58.815633Z"
    }
   },
   "id": "1adfd358b6d51e15"
  },
  {
   "cell_type": "code",
   "execution_count": null,
   "outputs": [],
   "source": [],
   "metadata": {
    "collapsed": false
   },
   "id": "793b73fc26466fc5"
  }
 ],
 "metadata": {
  "kernelspec": {
   "display_name": "Python 3",
   "language": "python",
   "name": "python3"
  },
  "language_info": {
   "codemirror_mode": {
    "name": "ipython",
    "version": 2
   },
   "file_extension": ".py",
   "mimetype": "text/x-python",
   "name": "python",
   "nbconvert_exporter": "python",
   "pygments_lexer": "ipython2",
   "version": "2.7.6"
  }
 },
 "nbformat": 4,
 "nbformat_minor": 5
}
